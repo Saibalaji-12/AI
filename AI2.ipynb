{
 "cells": [
  {
   "cell_type": "code",
   "execution_count": 1,
   "id": "2588f2e3-e12e-4555-ab92-0236e6731a7a",
   "metadata": {},
   "outputs": [
    {
     "name": "stdout",
     "output_type": "stream",
     "text": [
      "4\n"
     ]
    }
   ],
   "source": [
    "class Solution:\n",
    "    def solve(self, board):\n",
    "        # Dictionary to store visited states\n",
    "        state_dict = {}\n",
    "        \n",
    "        # Flatten the 2D board into a tuple\n",
    "        flatten = tuple(sum(board, []))\n",
    "\n",
    "        # Initialize the dictionary with the starting state\n",
    "        state_dict[flatten] = 0\n",
    "\n",
    "        # Goal state for the 8-puzzle problem\n",
    "        goal_state = (0, 1, 2, 3, 4, 5, 6, 7, 8)\n",
    "\n",
    "        if flatten == goal_state:\n",
    "            return 0  # Already solved\n",
    "\n",
    "        return self.get_paths(state_dict, goal_state)\n",
    "\n",
    "    def get_paths(self, state_dict, goal_state):\n",
    "        cnt = 0  # Number of moves\n",
    "        \n",
    "        while True:\n",
    "            # Get all current states at distance 'cnt'\n",
    "            current_nodes = [state for state in state_dict if state_dict[state] == cnt]\n",
    "            \n",
    "            if not current_nodes:\n",
    "                return -1  # No solution found\n",
    "\n",
    "            for node in current_nodes:\n",
    "                next_moves = self.find_next(node)\n",
    "\n",
    "                for move in next_moves:\n",
    "                    if move not in state_dict:\n",
    "                        state_dict[move] = cnt + 1\n",
    "                        if move == goal_state:\n",
    "                            return cnt + 1  # Return minimum moves\n",
    "\n",
    "            cnt += 1  # Increase move count\n",
    "\n",
    "    def find_next(self, node):\n",
    "        # Possible moves for each index of '0' (blank space)\n",
    "        moves = {\n",
    "            0: [1, 3],\n",
    "            1: [0, 2, 4],\n",
    "            2: [1, 5],\n",
    "            3: [0, 4, 6],\n",
    "            4: [1, 3, 5, 7],\n",
    "            5: [2, 4, 8],\n",
    "            6: [3, 7],\n",
    "            7: [4, 6, 8],\n",
    "            8: [5, 7],\n",
    "        }\n",
    "\n",
    "        results = []\n",
    "        pos_0 = node.index(0)  # Find the position of '0'\n",
    "\n",
    "        for move in moves[pos_0]:\n",
    "            new_node = list(node)\n",
    "            new_node[move], new_node[pos_0] = new_node[pos_0], new_node[move]\n",
    "            results.append(tuple(new_node))\n",
    "\n",
    "        return results\n",
    "\n",
    "\n",
    "# Example usage:\n",
    "ob = Solution()\n",
    "matrix = [\n",
    "    [3, 1, 2],\n",
    "    [4, 7, 5],\n",
    "    [6, 8, 0]\n",
    "]\n",
    "\n",
    "print(ob.solve(matrix))  # Output: Minimum moves to solve the puzzle"
   ]
  },
  {
   "cell_type": "code",
   "execution_count": null,
   "id": "ba00ff4f-2da1-4bc4-9609-faa45de4a771",
   "metadata": {},
   "outputs": [],
   "source": []
  }
 ],
 "metadata": {
  "kernelspec": {
   "display_name": "Python [conda env:base] *",
   "language": "python",
   "name": "conda-base-py"
  },
  "language_info": {
   "codemirror_mode": {
    "name": "ipython",
    "version": 3
   },
   "file_extension": ".py",
   "mimetype": "text/x-python",
   "name": "python",
   "nbconvert_exporter": "python",
   "pygments_lexer": "ipython3",
   "version": "3.12.7"
  }
 },
 "nbformat": 4,
 "nbformat_minor": 5
}
